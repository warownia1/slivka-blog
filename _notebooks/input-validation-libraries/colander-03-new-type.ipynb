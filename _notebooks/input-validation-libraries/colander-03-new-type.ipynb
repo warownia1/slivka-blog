{
 "cells": [
  {
   "cell_type": "code",
   "execution_count": 1,
   "id": "c2c0cce3",
   "metadata": {},
   "outputs": [],
   "source": [
    "import math\n",
    "from collections import namedtuple\n",
    "\n",
    "import colander\n",
    "from colander import Invalid\n",
    "\n",
    "math.max = max\n",
    "math.min = min"
   ]
  },
  {
   "cell_type": "code",
   "execution_count": 2,
   "id": "65759773",
   "metadata": {},
   "outputs": [],
   "source": [
    "Dimensions = namedtuple(\"Dimensions\", \"length, width, height\")"
   ]
  },
  {
   "cell_type": "code",
   "execution_count": 3,
   "id": "38f6af62",
   "metadata": {},
   "outputs": [],
   "source": [
    "class DimensionsType(colander.SchemaType):\n",
    "    def serialize(self, node, appstruct):\n",
    "        if appstruct is colander.null:\n",
    "            return colander.null\n",
    "        if not isinstance(appstruct, Dimensions):\n",
    "            raise Invalid(node, f\"{appstruct!r} is not a Dimensions type\")\n",
    "        return f\"{appstruct.length}x{appstruct.width}x{appstruct.height}\"\n",
    "    \n",
    "    def deserialize(self, node, cstruct):\n",
    "        if cstruct is colander.null:\n",
    "            return colander.null\n",
    "        if isinstance(cstruct, Dimensions):\n",
    "            return cstruct\n",
    "        try:\n",
    "            result = str(cstruct)\n",
    "        except Exception:\n",
    "            raise Invalid(node, f\"{cstruct} is not a string\")\n",
    "        try:\n",
    "            l, w, h = result.split('x')\n",
    "        except ValueError:\n",
    "            raise Invalid(node, f\"{cstruct} does not fit the pattern <length>x<width>x<height>\")\n",
    "        try:\n",
    "            return Dimensions(float(l), float(w), float(h))\n",
    "        except ValueError:\n",
    "            raise Invalid(node, f\"{cstruct} contains invalid numbers\")"
   ]
  },
  {
   "cell_type": "code",
   "execution_count": 4,
   "id": "ebd74ed2",
   "metadata": {},
   "outputs": [],
   "source": [
    "def LargestDimensionRange(min=None, max=None):\n",
    "    def validator(node, value):\n",
    "        largest = math.max(value)\n",
    "        if min is not None and largest < min:\n",
    "            raise Invalid(node, f\"largest dimension of {value!r} is less than minimum value {min}\")\n",
    "        if max is not None and largest > max:\n",
    "            raise Invalid(node, f\"largest dimensions of {value!r} is greater than maximum value {max}\")\n",
    "    return validator"
   ]
  },
  {
   "cell_type": "code",
   "execution_count": 5,
   "id": "a09e4f30",
   "metadata": {},
   "outputs": [],
   "source": [
    "def VolumeRange(min=None, max=None):\n",
    "    def validator(node, value):\n",
    "        volume = value.length * value.width * value.height\n",
    "        if min is not None and volume < min:\n",
    "            raise Invalid(node, f\"volume of {value!r} is less than minimum value {min}\")\n",
    "        if max is not None and volume > max:\n",
    "            raise Invalid(node, f\"volume of {value!r} is greater than maximum value {max}\")\n",
    "    return validator"
   ]
  },
  {
   "cell_type": "code",
   "execution_count": 6,
   "id": "56492f5c",
   "metadata": {},
   "outputs": [],
   "source": [
    "schema = colander.SchemaNode(\n",
    "    DimensionsType(),\n",
    "    validator=colander.All(\n",
    "        LargestDimensionRange(max=10),\n",
    "        VolumeRange(max=250)\n",
    "    ),\n",
    "    name='dimensions'\n",
    ")"
   ]
  },
  {
   "cell_type": "code",
   "execution_count": 7,
   "id": "62165f8a",
   "metadata": {},
   "outputs": [
    {
     "data": {
      "text/plain": [
       "Dimensions(length=8, width=5, height=6)"
      ]
     },
     "execution_count": 7,
     "metadata": {},
     "output_type": "execute_result"
    }
   ],
   "source": [
    "schema.deserialize(Dimensions(8, 5, 6))"
   ]
  },
  {
   "cell_type": "code",
   "execution_count": 8,
   "id": "b2f30a2a",
   "metadata": {},
   "outputs": [
    {
     "data": {
      "text/plain": [
       "Dimensions(length=8.0, width=5.0, height=6.0)"
      ]
     },
     "execution_count": 8,
     "metadata": {},
     "output_type": "execute_result"
    }
   ],
   "source": [
    "schema.deserialize(\"8x5x6\")"
   ]
  },
  {
   "cell_type": "code",
   "execution_count": 9,
   "id": "2d8ce768",
   "metadata": {},
   "outputs": [
    {
     "name": "stdout",
     "output_type": "stream",
     "text": [
      "{'dimensions': 'largest dimensions of Dimensions(length=11, width=0.5, '\n",
      "               'height=0.3) is greater than maximum value 10'}\n"
     ]
    }
   ],
   "source": [
    "try:\n",
    "    schema.deserialize(Dimensions(11, 0.5, 0.3))\n",
    "except colander.Invalid as e:\n",
    "    print(e)"
   ]
  },
  {
   "cell_type": "code",
   "execution_count": 10,
   "id": "bed15848",
   "metadata": {},
   "outputs": [
    {
     "name": "stdout",
     "output_type": "stream",
     "text": [
      "{'dimensions': 'volume of Dimensions(length=8, width=5, height=7) is greater '\n",
      "               'than maximum value 250'}\n"
     ]
    }
   ],
   "source": [
    "try:\n",
    "    schema.deserialize(Dimensions(8, 5, 7))\n",
    "except colander.Invalid as e:\n",
    "    print(e)"
   ]
  }
 ],
 "metadata": {
  "kernelspec": {
   "display_name": "Python [conda env:playground]",
   "language": "python",
   "name": "conda-env-playground-py"
  },
  "language_info": {
   "codemirror_mode": {
    "name": "ipython",
    "version": 3
   },
   "file_extension": ".py",
   "mimetype": "text/x-python",
   "name": "python",
   "nbconvert_exporter": "python",
   "pygments_lexer": "ipython3",
   "version": "3.10.6"
  }
 },
 "nbformat": 4,
 "nbformat_minor": 5
}
