{
 "cells": [
  {
   "cell_type": "markdown",
   "id": "c192dd43",
   "metadata": {},
   "source": [
    "Basic functionality test - primitive input parameters and collections of primitives with optional and nullable properties"
   ]
  },
  {
   "cell_type": "code",
   "execution_count": 1,
   "id": "fbcec264",
   "metadata": {},
   "outputs": [],
   "source": [
    "import valideer"
   ]
  },
  {
   "cell_type": "code",
   "execution_count": 2,
   "id": "72455684",
   "metadata": {},
   "outputs": [],
   "source": [
    "schema = {\n",
    "    \"+title\": valideer.String(min_length=5),\n",
    "    \"?subtitle\": \"string\",\n",
    "    \"+authors\": valideer.HomogeneousSequence(\n",
    "        \"string\",\n",
    "        min_length=1\n",
    "    ),\n",
    "    \"+in store\": \"boolean\",\n",
    "    \"+number of pages\": valideer.Range(\"integer\", min_value=1),\n",
    "    \"special edition\": valideer.Nullable(\"string\")\n",
    "}\n",
    "validator = valideer.parse(schema)"
   ]
  },
  {
   "cell_type": "code",
   "execution_count": 3,
   "id": "1a85718c",
   "metadata": {},
   "outputs": [],
   "source": [
    "assert validator.is_valid({\n",
    "    \"title\": \"Design Patterns\",\n",
    "    \"subtitle\": \"Elements of Reusable Object-Oriented Software\",\n",
    "    \"authors\": [\n",
    "        \"Erich Gamma\", \"Richard Helm\", \"Ralph Johnson\", \"John Vlissides\"\n",
    "    ],\n",
    "    \"in store\": True,\n",
    "    \"number of pages\": 521,\n",
    "    \"special edition\": None\n",
    "})"
   ]
  },
  {
   "cell_type": "code",
   "execution_count": 4,
   "id": "a15cd96c",
   "metadata": {},
   "outputs": [],
   "source": [
    "assert validator.is_valid({\n",
    "    \"title\": \"Harry Potter and the Goblet of Fire\",\n",
    "    \"authors\": [\"J.K. Rowling\"],\n",
    "    \"in store\": False,\n",
    "    \"number of pages\": 352,\n",
    "    \"special edition\": \"Warner Bros - movie collection\"\n",
    "})"
   ]
  },
  {
   "cell_type": "code",
   "execution_count": 5,
   "id": "d567eaa1",
   "metadata": {},
   "outputs": [
    {
     "name": "stdout",
     "output_type": "stream",
     "text": [
      "Invalid value [] (list): must contain at least 1 elements (at authors)\n"
     ]
    }
   ],
   "source": [
    "try:\n",
    "    validator.validate({\n",
    "        \"title\": \"Untitled document 3\",\n",
    "        \"authors\": [],\n",
    "        \"in store\": False,\n",
    "        \"number of pages\": -5\n",
    "    })\n",
    "except valideer.ValidationError as e:\n",
    "    print(e.message)"
   ]
  }
 ],
 "metadata": {
  "kernelspec": {
   "display_name": "Python [conda env:playground]",
   "language": "python",
   "name": "conda-env-playground-py"
  },
  "language_info": {
   "codemirror_mode": {
    "name": "ipython",
    "version": 3
   },
   "file_extension": ".py",
   "mimetype": "text/x-python",
   "name": "python",
   "nbconvert_exporter": "python",
   "pygments_lexer": "ipython3",
   "version": "3.9.13"
  }
 },
 "nbformat": 4,
 "nbformat_minor": 5
}
