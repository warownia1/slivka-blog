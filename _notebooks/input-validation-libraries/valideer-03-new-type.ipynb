{
 "cells": [
  {
   "cell_type": "markdown",
   "id": "562453cd",
   "metadata": {},
   "source": [
    "New type test - check and coerce data to a custom type and add new validators to that type"
   ]
  },
  {
   "cell_type": "code",
   "execution_count": 1,
   "id": "18cefe5d",
   "metadata": {
    "slideshow": {
     "slide_type": "-"
    }
   },
   "outputs": [],
   "source": [
    "from collections import namedtuple\n",
    "\n",
    "import valideer\n",
    "from valideer import ValidationError"
   ]
  },
  {
   "cell_type": "code",
   "execution_count": 2,
   "id": "34f24d31",
   "metadata": {},
   "outputs": [],
   "source": [
    "Dimensions = namedtuple(\"Dimensions\", \"length, width, height\")"
   ]
  },
  {
   "cell_type": "code",
   "execution_count": 3,
   "id": "a51e7f75",
   "metadata": {},
   "outputs": [],
   "source": [
    "class MaxDimensionLength(valideer.Validator):\n",
    "    def __init__(self, max_dim_length):\n",
    "        self.max_dim_length = max_dim_length\n",
    "    \n",
    "    def validate(self, value, adapt=True):\n",
    "        if max(value) > self.max_dim_length:\n",
    "            raise ValidationError(f\"largest dimension is greater than {self.max_dim_length}\", value)\n",
    "        return value"
   ]
  },
  {
   "cell_type": "code",
   "execution_count": 4,
   "id": "4db0cd01",
   "metadata": {},
   "outputs": [],
   "source": [
    "class MaxVolume(valideer.Validator):\n",
    "    def __init__(self, max_volume):\n",
    "        self.max_volume = max_volume\n",
    "        \n",
    "    def validate(self, value, adapt=True):\n",
    "        vol = value.length * value.width * value.height\n",
    "        if vol > self.max_volume:\n",
    "            raise ValidationError(f'total volume is greaten than {self.max_volume}', value)\n",
    "        return value"
   ]
  },
  {
   "cell_type": "code",
   "execution_count": 5,
   "id": "2a723e49",
   "metadata": {},
   "outputs": [],
   "source": [
    "schema = {\n",
    "    \"size\": valideer.ChainOf(\n",
    "        valideer.AdaptBy(Dimensions._make),\n",
    "        valideer.AllOf(\n",
    "            MaxDimensionLength(10),\n",
    "            MaxVolume(250)\n",
    "        )\n",
    "    )\n",
    "}\n",
    "validator = valideer.parse(schema)"
   ]
  },
  {
   "cell_type": "code",
   "execution_count": 6,
   "id": "0341807d",
   "metadata": {},
   "outputs": [],
   "source": [
    "assert validator.is_valid({\n",
    "    'size': Dimensions(8, 5, 6)\n",
    "})"
   ]
  },
  {
   "cell_type": "code",
   "execution_count": 7,
   "id": "afd5f588",
   "metadata": {},
   "outputs": [
    {
     "data": {
      "text/plain": [
       "{'size': Dimensions(length=8, width=5, height=3)}"
      ]
     },
     "execution_count": 7,
     "metadata": {},
     "output_type": "execute_result"
    }
   ],
   "source": [
    "validator.validate({\n",
    "    'size': (8, 5, 3)\n",
    "})"
   ]
  },
  {
   "cell_type": "code",
   "execution_count": 8,
   "id": "4e4135f1",
   "metadata": {},
   "outputs": [
    {
     "name": "stdout",
     "output_type": "stream",
     "text": [
      "Invalid value Dimensions(length=11, width=0.5, height=0.3) (Dimensions): largest dimension is greater than 10 (at size)\n"
     ]
    }
   ],
   "source": [
    "try:\n",
    "    validator.validate({\n",
    "        'size': (11, 0.5, 0.3)\n",
    "    })\n",
    "except ValidationError as e:\n",
    "    print(e.message)"
   ]
  },
  {
   "cell_type": "code",
   "execution_count": 9,
   "id": "82b0cb11",
   "metadata": {},
   "outputs": [
    {
     "name": "stdout",
     "output_type": "stream",
     "text": [
      "Invalid value Dimensions(length=8, width=5, height=7) (Dimensions): total volume is greaten than 250 (at size)\n"
     ]
    }
   ],
   "source": [
    "try:\n",
    "    validator.validate({\n",
    "        'size': (8, 5, 7)\n",
    "    })\n",
    "except ValidationError as e:\n",
    "    print(e.message)"
   ]
  }
 ],
 "metadata": {
  "kernelspec": {
   "display_name": "Python [conda env:playground]",
   "language": "python",
   "name": "conda-env-playground-py"
  },
  "language_info": {
   "codemirror_mode": {
    "name": "ipython",
    "version": 3
   },
   "file_extension": ".py",
   "mimetype": "text/x-python",
   "name": "python",
   "nbconvert_exporter": "python",
   "pygments_lexer": "ipython3",
   "version": "3.9.13"
  }
 },
 "nbformat": 4,
 "nbformat_minor": 5
}
