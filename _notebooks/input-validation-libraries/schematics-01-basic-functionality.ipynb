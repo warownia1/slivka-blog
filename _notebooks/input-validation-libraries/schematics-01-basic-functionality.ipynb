{
 "cells": [
  {
   "cell_type": "markdown",
   "id": "1227df25",
   "metadata": {},
   "source": [
    "Basic functionality test - primitive input parameters and collections of primitives with optional and nullable properties"
   ]
  },
  {
   "cell_type": "code",
   "execution_count": 1,
   "id": "aaba2a3c",
   "metadata": {},
   "outputs": [],
   "source": [
    "from schematics.exceptions import DataError\n",
    "from schematics.models import Model\n",
    "from schematics.types import *"
   ]
  },
  {
   "cell_type": "code",
   "execution_count": 2,
   "id": "5edac64d",
   "metadata": {},
   "outputs": [],
   "source": [
    "class Book(Model):\n",
    "    title = StringType(required=True, min_length=5)\n",
    "    subtitle = StringType(required=False)\n",
    "    authors = ListType(StringType(), required=True, min_size=1)\n",
    "    in_store = BooleanType(required=True)\n",
    "    number_of_pages = IntType(min_value=1)\n",
    "    special_edition = StringType()"
   ]
  },
  {
   "cell_type": "code",
   "execution_count": 3,
   "id": "dbd9bbd1",
   "metadata": {},
   "outputs": [],
   "source": [
    "book = Book({\n",
    "    \"title\": \"Design Patterns\",\n",
    "    \"subtitle\": \"Elements of Reusable Object-Oriented Software\",\n",
    "    \"authors\": [\n",
    "        \"Erich Gamma\", \"Richard Helm\", \"Ralph Johnson\", \"John Vlissides\"\n",
    "    ],\n",
    "    \"in_store\": True,\n",
    "    \"number_of_pages\": 521,\n",
    "    \"special_edition\": None\n",
    "})\n",
    "book.validate()"
   ]
  },
  {
   "cell_type": "code",
   "execution_count": 4,
   "id": "8420f2b6",
   "metadata": {},
   "outputs": [],
   "source": [
    "book = Book({\n",
    "    \"title\": \"Harry Potter and the Goblet of Fire\",\n",
    "    \"authors\": [\"J.K. Rowling\"],\n",
    "    \"in_store\": False,\n",
    "    \"number_of_pages\": 352,\n",
    "    \"special_edition\": \"Warner Bros - movie collection\"\n",
    "})\n",
    "book.validate()"
   ]
  },
  {
   "cell_type": "code",
   "execution_count": 5,
   "id": "a99d60d3",
   "metadata": {},
   "outputs": [
    {
     "name": "stdout",
     "output_type": "stream",
     "text": [
      "{'authors': ValidationError([ErrorMessage('Please provide at least 1 item.', None)]), 'number_of_pages': ValidationError([ErrorMessage('Int value should be greater than or equal to 1.', None)])}\n"
     ]
    }
   ],
   "source": [
    "book = Book({\n",
    "    \"title\": \"Untitled document 3\",\n",
    "    \"authors\": [],\n",
    "    \"in_store\": False,\n",
    "    \"number_of_pages\": -5\n",
    "})\n",
    "try:\n",
    "    book.validate()\n",
    "except DataError as e:\n",
    "    print(e.errors)"
   ]
  }
 ],
 "metadata": {
  "kernelspec": {
   "display_name": "Python [conda env:playground]",
   "language": "python",
   "name": "conda-env-playground-py"
  },
  "language_info": {
   "codemirror_mode": {
    "name": "ipython",
    "version": 3
   },
   "file_extension": ".py",
   "mimetype": "text/x-python",
   "name": "python",
   "nbconvert_exporter": "python",
   "pygments_lexer": "ipython3",
   "version": "3.9.13"
  }
 },
 "nbformat": 4,
 "nbformat_minor": 5
}
