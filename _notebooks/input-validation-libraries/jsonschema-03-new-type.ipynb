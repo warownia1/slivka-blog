{
 "cells": [
  {
   "cell_type": "markdown",
   "id": "0ce8a26b",
   "metadata": {},
   "source": [
    "new type test - a custom type with its own validators is added to the schema"
   ]
  },
  {
   "cell_type": "code",
   "execution_count": 1,
   "id": "7a78ee6c",
   "metadata": {},
   "outputs": [],
   "source": [
    "import copy\n",
    "from collections import namedtuple\n",
    "\n",
    "import jsonschema\n",
    "from jsonschema import Draft7Validator, ValidationError"
   ]
  },
  {
   "cell_type": "code",
   "execution_count": 2,
   "id": "94ea2d29",
   "metadata": {},
   "outputs": [],
   "source": [
    "Dimensions = namedtuple(\"Dimensions\", \"length, width, height\")"
   ]
  },
  {
   "cell_type": "code",
   "execution_count": 3,
   "id": "3bb0d878",
   "metadata": {},
   "outputs": [],
   "source": [
    "def maxLengthChecker(validator, max_length, instance, schema):\n",
    "    if not validator.is_type(instance, \"dimensions\"):\n",
    "        return\n",
    "    if max(instance) > max_length:\n",
    "        yield ValidationError(f\"longest dimension is greater than the maximum length of {max_length}\")\n",
    "        \n",
    "def maxVolumeChecker(validator, max_volume, instance, schema):\n",
    "    if not validator.is_type(instance, \"dimensions\"):\n",
    "        return\n",
    "    volume = instance.length * instance.width * instance.height\n",
    "    if volume > max_volume:\n",
    "        yield ValidationError(f\"total volume {volume!r} is greater than the maximum of {max_volume}\")"
   ]
  },
  {
   "cell_type": "code",
   "execution_count": 4,
   "id": "7b896af3",
   "metadata": {},
   "outputs": [],
   "source": [
    "type_checker = Draft7Validator.TYPE_CHECKER.redefine(\n",
    "    \"dimensions\", lambda _, instance: isinstance(instance, Dimensions)\n",
    ")\n",
    "format_checker = Draft7Validator.FORMAT_CHECKER\n",
    "all_validators = dict(Draft7Validator.VALIDATORS)\n",
    "all_validators['maximumLength'] = maxLengthChecker\n",
    "all_validators['maximumVolume'] = maxVolumeChecker\n",
    "meta_schema = copy.deepcopy(Draft7Validator.META_SCHEMA)\n",
    "meta_schema['definitions']['simpleTypes']['enum'].append(\"dimensions\")\n",
    "meta_schema['properties']['maximumLength'] = {'type': 'number', 'minimum': 0}\n",
    "meta_schema['properties']['maximumVolume'] = {'type': 'number', 'minimum': 0}\n",
    "\n",
    "MyValidator = jsonschema.validators.create(\n",
    "    meta_schema=meta_schema,\n",
    "    validators=all_validators,\n",
    "    type_checker=type_checker,\n",
    "    format_checker=Draft7Validator.FORMAT_CHECKER,\n",
    "    id_of=Draft7Validator.ID_OF\n",
    ")"
   ]
  },
  {
   "cell_type": "code",
   "execution_count": 5,
   "id": "eb5b1355",
   "metadata": {},
   "outputs": [],
   "source": [
    "schema = {\n",
    "    \"type\": \"dimensions\",\n",
    "    \"maximumLength\": 10,\n",
    "    \"maximumVolume\": 250\n",
    "}\n",
    "validator = MyValidator(schema)"
   ]
  },
  {
   "cell_type": "code",
   "execution_count": 6,
   "id": "f7fca719",
   "metadata": {},
   "outputs": [],
   "source": [
    "validator.validate(Dimensions(8, 5, 6))"
   ]
  },
  {
   "cell_type": "code",
   "execution_count": 7,
   "id": "9ede77f4",
   "metadata": {},
   "outputs": [
    {
     "data": {
      "text/plain": [
       "[<ValidationError: 'longest dimension is greater than the maximum length of 10'>]"
      ]
     },
     "execution_count": 7,
     "metadata": {},
     "output_type": "execute_result"
    }
   ],
   "source": [
    "list(validator.iter_errors(Dimensions(11, 0.5, 0.3)))"
   ]
  },
  {
   "cell_type": "code",
   "execution_count": 8,
   "id": "7cda60ce",
   "metadata": {},
   "outputs": [
    {
     "data": {
      "text/plain": [
       "[<ValidationError: 'total volume 280 is greater than the maximum of 250'>]"
      ]
     },
     "execution_count": 8,
     "metadata": {},
     "output_type": "execute_result"
    }
   ],
   "source": [
    "list(validator.iter_errors(Dimensions(8, 5, 7)))"
   ]
  }
 ],
 "metadata": {
  "kernelspec": {
   "display_name": "Python [conda env:playground]",
   "language": "python",
   "name": "conda-env-playground-py"
  },
  "language_info": {
   "codemirror_mode": {
    "name": "ipython",
    "version": 3
   },
   "file_extension": ".py",
   "mimetype": "text/x-python",
   "name": "python",
   "nbconvert_exporter": "python",
   "pygments_lexer": "ipython3",
   "version": "3.10.6"
  }
 },
 "nbformat": 4,
 "nbformat_minor": 5
}
