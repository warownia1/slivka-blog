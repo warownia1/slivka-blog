{
 "cells": [
  {
   "cell_type": "markdown",
   "id": "910f0274",
   "metadata": {},
   "source": [
    "Simple dynamic validation test - make two parameters required but mutually exclusive."
   ]
  },
  {
   "cell_type": "code",
   "execution_count": 1,
   "id": "b11e6870",
   "metadata": {},
   "outputs": [],
   "source": [
    "import cerberus"
   ]
  },
  {
   "cell_type": "code",
   "execution_count": 2,
   "id": "e3016a08",
   "metadata": {},
   "outputs": [],
   "source": [
    "schema = {\n",
    "    \"input data\": {\"type\": \"string\"},\n",
    "    \"depth\": {\"type\": \"integer\"},\n",
    "    \"accurate method\": {\n",
    "        \"type\": \"number\",\n",
    "        \"required\": True,\n",
    "        \"excludes\": \"fast method\",\n",
    "    },\n",
    "    \"fast method\": {\n",
    "        \"type\": \"number\",\n",
    "        \"required\": True,\n",
    "        \"excludes\": \"accurate method\",\n",
    "    },\n",
    "}\n",
    "validator = cerberus.Validator(schema)"
   ]
  },
  {
   "cell_type": "code",
   "execution_count": 3,
   "id": "3c30f9fb",
   "metadata": {},
   "outputs": [],
   "source": [
    "assert validator.validate({\n",
    "    \"input data\": \"AGGTCGTGC\",\n",
    "    \"depth\": 4,\n",
    "    \"accurate method\": 1.43231\n",
    "})"
   ]
  },
  {
   "cell_type": "code",
   "execution_count": 4,
   "id": "37b7aefc",
   "metadata": {},
   "outputs": [],
   "source": [
    "assert validator.validate({\n",
    "    \"input data\": \"AGGTCGTGC\",\n",
    "    \"depth\": 4,\n",
    "    \"fast method\": 0.03591\n",
    "})"
   ]
  },
  {
   "cell_type": "code",
   "execution_count": 5,
   "id": "2a6ea8aa",
   "metadata": {},
   "outputs": [
    {
     "data": {
      "text/plain": [
       "{'accurate method': ['required field'], 'fast method': ['required field']}"
      ]
     },
     "execution_count": 5,
     "metadata": {},
     "output_type": "execute_result"
    }
   ],
   "source": [
    "assert not validator.validate({\n",
    "    \"input data\": \"AGGCTGTCC\",\n",
    "    \"depth\": 4,\n",
    "})\n",
    "validator.errors"
   ]
  },
  {
   "cell_type": "code",
   "execution_count": 6,
   "id": "ada98e39",
   "metadata": {},
   "outputs": [
    {
     "data": {
      "text/plain": [
       "{'accurate method': [\"'fast method' must not be present with 'accurate method'\"],\n",
       " 'fast method': [\"'accurate method' must not be present with 'fast method'\"]}"
      ]
     },
     "execution_count": 6,
     "metadata": {},
     "output_type": "execute_result"
    }
   ],
   "source": [
    "assert not validator.validate({\n",
    "    \"input data\": \"AGGCTCGTCC\",\n",
    "    \"depth\": 4,\n",
    "    \"fast method\": 2.40176,\n",
    "    \"accurate method\": 0.02874\n",
    "})\n",
    "validator.errors"
   ]
  }
 ],
 "metadata": {
  "kernelspec": {
   "display_name": "Python [conda env:playground]",
   "language": "python",
   "name": "conda-env-playground-py"
  },
  "language_info": {
   "codemirror_mode": {
    "name": "ipython",
    "version": 3
   },
   "file_extension": ".py",
   "mimetype": "text/x-python",
   "name": "python",
   "nbconvert_exporter": "python",
   "pygments_lexer": "ipython3",
   "version": "3.10.6"
  }
 },
 "nbformat": 4,
 "nbformat_minor": 5
}
