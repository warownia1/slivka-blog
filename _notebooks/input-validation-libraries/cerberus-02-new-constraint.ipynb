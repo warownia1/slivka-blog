{
 "cells": [
  {
   "cell_type": "markdown",
   "id": "08474064",
   "metadata": {},
   "source": [
    "Custom type checker test - a new validator added to the existing type"
   ]
  },
  {
   "cell_type": "code",
   "execution_count": 1,
   "id": "71348272",
   "metadata": {},
   "outputs": [],
   "source": [
    "import cerberus"
   ]
  },
  {
   "cell_type": "code",
   "execution_count": 2,
   "id": "b2210c53",
   "metadata": {},
   "outputs": [],
   "source": [
    "class Validator(cerberus.Validator):\n",
    "    def _validate_is_even(self, constraint, field, value):\n",
    "        \"\"\" {'type': 'boolean'} \"\"\"\n",
    "        if constraint is True and value & 1 == 1:\n",
    "            self._error(field, 'must be an even number')\n",
    "        elif constraint is False and value & 1 == 0:\n",
    "            self._error(field, 'must not be an even number')"
   ]
  },
  {
   "cell_type": "code",
   "execution_count": 3,
   "id": "4986ae4e",
   "metadata": {},
   "outputs": [],
   "source": [
    "schema = {\n",
    "    \"number\": {\n",
    "        \"type\": \"integer\",\n",
    "        \"is even\": True,\n",
    "    },\n",
    "}\n",
    "validator = Validator(schema)"
   ]
  },
  {
   "cell_type": "code",
   "execution_count": 4,
   "id": "1ad574ad",
   "metadata": {},
   "outputs": [],
   "source": [
    "assert validator({\n",
    "    \"number\": 4\n",
    "})"
   ]
  },
  {
   "cell_type": "code",
   "execution_count": 5,
   "id": "6118a440",
   "metadata": {},
   "outputs": [
    {
     "data": {
      "text/plain": [
       "{'number': ['must be an even number']}"
      ]
     },
     "execution_count": 5,
     "metadata": {},
     "output_type": "execute_result"
    }
   ],
   "source": [
    "assert not validator({\n",
    "    \"number\": 3\n",
    "})\n",
    "validator.errors"
   ]
  }
 ],
 "metadata": {
  "kernelspec": {
   "display_name": "Python [conda env:playground]",
   "language": "python",
   "name": "conda-env-playground-py"
  },
  "language_info": {
   "codemirror_mode": {
    "name": "ipython",
    "version": 3
   },
   "file_extension": ".py",
   "mimetype": "text/x-python",
   "name": "python",
   "nbconvert_exporter": "python",
   "pygments_lexer": "ipython3",
   "version": "3.10.6"
  }
 },
 "nbformat": 4,
 "nbformat_minor": 5
}
