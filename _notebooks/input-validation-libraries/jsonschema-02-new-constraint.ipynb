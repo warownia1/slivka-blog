{
 "cells": [
  {
   "cell_type": "markdown",
   "id": "6bb990ea",
   "metadata": {},
   "source": [
    "Custom type checker test - a new validator is added to the existing type"
   ]
  },
  {
   "cell_type": "code",
   "execution_count": 1,
   "id": "cb0be193",
   "metadata": {},
   "outputs": [],
   "source": [
    "import jsonschema\n",
    "from jsonschema import Draft7Validator, ValidationError"
   ]
  },
  {
   "cell_type": "code",
   "execution_count": 2,
   "id": "3a32fae3",
   "metadata": {},
   "outputs": [],
   "source": [
    "def isEvenChecker(validator, evenness, instance, schema):\n",
    "    if not validator.is_type(instance, \"integer\"):\n",
    "        return\n",
    "    if evenness is True and instance & 1 == 1:\n",
    "        yield ValidationError(f'{instance!r} is not even')\n",
    "    elif evenness is False and instance & 1 == 0:\n",
    "        yield ValidationError(f'{instance!r} is even')"
   ]
  },
  {
   "cell_type": "code",
   "execution_count": 3,
   "id": "437e5b3b",
   "metadata": {},
   "outputs": [],
   "source": [
    "MyValidator = jsonschema.validators.extend(\n",
    "    Draft7Validator, validators={\"isEven\": isEvenChecker}\n",
    ")"
   ]
  },
  {
   "cell_type": "code",
   "execution_count": 4,
   "id": "cd772599",
   "metadata": {},
   "outputs": [],
   "source": [
    "schema = {\n",
    "    \"type\": \"integer\",\n",
    "    \"isEven\": True\n",
    "}\n",
    "validator = MyValidator(schema)"
   ]
  },
  {
   "cell_type": "code",
   "execution_count": 5,
   "id": "20f838ed",
   "metadata": {},
   "outputs": [],
   "source": [
    "validator.validate(4)"
   ]
  },
  {
   "cell_type": "code",
   "execution_count": 6,
   "id": "2f9c7d77",
   "metadata": {},
   "outputs": [],
   "source": [
    "validator.validate(8)"
   ]
  },
  {
   "cell_type": "code",
   "execution_count": 7,
   "id": "5c15f620",
   "metadata": {},
   "outputs": [
    {
     "data": {
      "text/plain": [
       "[<ValidationError: '7 is not even'>]"
      ]
     },
     "execution_count": 7,
     "metadata": {},
     "output_type": "execute_result"
    }
   ],
   "source": [
    "list(validator.iter_errors(7))"
   ]
  }
 ],
 "metadata": {
  "kernelspec": {
   "display_name": "Python [conda env:playground]",
   "language": "python",
   "name": "conda-env-playground-py"
  },
  "language_info": {
   "codemirror_mode": {
    "name": "ipython",
    "version": 3
   },
   "file_extension": ".py",
   "mimetype": "text/x-python",
   "name": "python",
   "nbconvert_exporter": "python",
   "pygments_lexer": "ipython3",
   "version": "3.10.6"
  }
 },
 "nbformat": 4,
 "nbformat_minor": 5
}
