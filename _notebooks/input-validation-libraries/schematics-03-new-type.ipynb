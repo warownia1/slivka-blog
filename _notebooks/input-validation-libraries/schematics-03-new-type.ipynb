{
 "cells": [
  {
   "cell_type": "markdown",
   "id": "0b8ccc22",
   "metadata": {},
   "source": [
    "New type test - a custom type with its own validators"
   ]
  },
  {
   "cell_type": "code",
   "execution_count": 1,
   "id": "74bd8cc3",
   "metadata": {},
   "outputs": [],
   "source": [
    "from collections import namedtuple\n",
    "\n",
    "from schematics.exceptions import DataError, ValidationError, ConversionError\n",
    "from schematics.models import Model\n",
    "from schematics.types import *"
   ]
  },
  {
   "cell_type": "code",
   "execution_count": 2,
   "id": "c0abbff1",
   "metadata": {},
   "outputs": [],
   "source": [
    "Dimensions = namedtuple(\"Dimensions\", \"length, width, height\")"
   ]
  },
  {
   "cell_type": "code",
   "execution_count": 3,
   "id": "3963281c",
   "metadata": {},
   "outputs": [],
   "source": [
    "class DimensionsType(BaseType):\n",
    "    def __init__(self, *args, max_largest_dimension=None, max_volume=None, **kwargs):\n",
    "        super().__init__(*args, **kwargs)\n",
    "        self.max_largest_dimension = max_largest_dimension\n",
    "        self.max_volume = max_volume\n",
    "    \n",
    "    def to_native(self, value, context=None):\n",
    "        try:\n",
    "            return Dimensions._make(value)\n",
    "        except (TypeError, ValueError) as e:\n",
    "            raise ConversionError(e.args)\n",
    "            \n",
    "    def to_primitive(self, value, context=None):\n",
    "        return tuple(value)\n",
    "    \n",
    "    def validate_max_largest_dimension(self, value):\n",
    "        constraint = self.max_largest_dimension\n",
    "        if constraint is None:\n",
    "            return\n",
    "        if max(value) > constraint:\n",
    "            raise ValidationError(f'Largest dimension is greater than maximum of {constraint}')\n",
    "            \n",
    "    def validate_max_volume(self, value):\n",
    "        constraint = self.max_volume\n",
    "        if constraint is None:\n",
    "            return\n",
    "        volume = value.length * value.width * value.height\n",
    "        if volume > constraint:\n",
    "            raise ValidationError(f'Volume is greater than maximum of {constraint}')"
   ]
  },
  {
   "cell_type": "code",
   "execution_count": 4,
   "id": "2fa10be7",
   "metadata": {},
   "outputs": [],
   "source": [
    "class Box(Model):\n",
    "    size = DimensionsType(\n",
    "        required=True,\n",
    "        max_largest_dimension=10,\n",
    "        max_volume=250\n",
    "    )"
   ]
  },
  {
   "cell_type": "code",
   "execution_count": 5,
   "id": "bb53141d",
   "metadata": {},
   "outputs": [
    {
     "data": {
      "text/plain": [
       "Dimensions(length=8, width=5, height=6)"
      ]
     },
     "execution_count": 5,
     "metadata": {},
     "output_type": "execute_result"
    }
   ],
   "source": [
    "box = Box({\"size\": (8, 5, 6)})\n",
    "box.validate()\n",
    "box.size"
   ]
  },
  {
   "cell_type": "code",
   "execution_count": 6,
   "id": "03bbd777",
   "metadata": {},
   "outputs": [
    {
     "name": "stdout",
     "output_type": "stream",
     "text": [
      "{'size': ValidationError([ErrorMessage('Largest dimension is greater than maximum of 10', None)])}\n"
     ]
    }
   ],
   "source": [
    "box = Box({\"size\": (11, 0.5, 0.3)})\n",
    "try:\n",
    "    box.validate()\n",
    "except DataError as e:\n",
    "    print(e.errors)"
   ]
  },
  {
   "cell_type": "code",
   "execution_count": 7,
   "id": "4463b1f2",
   "metadata": {},
   "outputs": [
    {
     "name": "stdout",
     "output_type": "stream",
     "text": [
      "{'size': ValidationError([ErrorMessage('Volume is greater than maximum of 250', None)])}\n"
     ]
    }
   ],
   "source": [
    "box = Box({\"size\": (8, 5, 7)})\n",
    "try:\n",
    "    box.validate()\n",
    "except DataError as e:\n",
    "    print(e.errors)"
   ]
  },
  {
   "cell_type": "code",
   "execution_count": 8,
   "id": "72ff56e6",
   "metadata": {},
   "outputs": [
    {
     "name": "stdout",
     "output_type": "stream",
     "text": [
      "{'size': ConversionError([ErrorMessage('Expected 3 arguments, got 2', None)])}\n"
     ]
    }
   ],
   "source": [
    "try:\n",
    "    box = Box({\"size\": (1, 2)})\n",
    "except DataError as e:\n",
    "    print(e.errors)"
   ]
  }
 ],
 "metadata": {
  "kernelspec": {
   "display_name": "Python [conda env:playground]",
   "language": "python",
   "name": "conda-env-playground-py"
  },
  "language_info": {
   "codemirror_mode": {
    "name": "ipython",
    "version": 3
   },
   "file_extension": ".py",
   "mimetype": "text/x-python",
   "name": "python",
   "nbconvert_exporter": "python",
   "pygments_lexer": "ipython3",
   "version": "3.9.13"
  }
 },
 "nbformat": 4,
 "nbformat_minor": 5
}
