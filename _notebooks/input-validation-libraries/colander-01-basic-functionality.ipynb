{
 "cells": [
  {
   "cell_type": "markdown",
   "id": "bddeb7d0",
   "metadata": {},
   "source": [
    "Basic functionality test - primitive input parameters and collections of primitives with optional and nullable properties."
   ]
  },
  {
   "cell_type": "code",
   "execution_count": 1,
   "id": "5d384051",
   "metadata": {},
   "outputs": [],
   "source": [
    "import colander"
   ]
  },
  {
   "cell_type": "code",
   "execution_count": 2,
   "id": "b74ae3af",
   "metadata": {},
   "outputs": [],
   "source": [
    "class Authors(colander.SequenceSchema):\n",
    "    validator = colander.Length(min=1)\n",
    "    author = colander.SchemaNode(colander.String())\n",
    "    \n",
    "class Book(colander.MappingSchema):\n",
    "    title = colander.SchemaNode(\n",
    "        colander.String(),\n",
    "        validator=colander.Length(min=5)\n",
    "    )\n",
    "    subtitle = colander.SchemaNode(\n",
    "        colander.String(),\n",
    "        missing=colander.null\n",
    "    )\n",
    "    authors = Authors()\n",
    "    in_store = colander.SchemaNode(colander.Bool())\n",
    "    cover = colander.SchemaNode(\n",
    "        colander.String(),\n",
    "        validator=colander.OneOf([\"soft\", \"hard\"])\n",
    "    )\n",
    "    number_of_pages = colander.SchemaNode(\n",
    "        colander.Int(),\n",
    "        validator=colander.Range(min=1)\n",
    "    )\n",
    "    special_edition = colander.SchemaNode(\n",
    "        colander.String(),\n",
    "        missing=colander.null\n",
    "    )"
   ]
  },
  {
   "cell_type": "code",
   "execution_count": 3,
   "id": "57603eb3",
   "metadata": {},
   "outputs": [
    {
     "data": {
      "text/plain": [
       "{'title': 'Design Patterns',\n",
       " 'subtitle': 'Elements of Reusable Object-Oriented Software',\n",
       " 'authors': ['Erich Gamma', 'Richard Helm', 'Ralph Johnson', 'John Vlissides'],\n",
       " 'in_store': True,\n",
       " 'cover': 'soft',\n",
       " 'number_of_pages': 521,\n",
       " 'special_edition': <colander.null>}"
      ]
     },
     "execution_count": 3,
     "metadata": {},
     "output_type": "execute_result"
    }
   ],
   "source": [
    "cstruct = {\n",
    "    \"title\": \"Design Patterns\",\n",
    "    \"subtitle\": \"Elements of Reusable Object-Oriented Software\",\n",
    "    \"authors\": [\n",
    "        \"Erich Gamma\", \"Richard Helm\", \"Ralph Johnson\", \"John Vlissides\"\n",
    "    ],\n",
    "    \"in_store\": True,\n",
    "    \"cover\": \"soft\",\n",
    "    \"number_of_pages\": 521,\n",
    "    \"special_edition\": None\n",
    "}\n",
    "schema = Book()\n",
    "schema.deserialize(cstruct)"
   ]
  },
  {
   "cell_type": "code",
   "execution_count": 4,
   "id": "e64f1010",
   "metadata": {},
   "outputs": [
    {
     "data": {
      "text/plain": [
       "{'title': 'Harry Potter and the Goblet of Fire',\n",
       " 'subtitle': <colander.null>,\n",
       " 'authors': ['J.K. Rowling'],\n",
       " 'in_store': False,\n",
       " 'cover': 'hard',\n",
       " 'number_of_pages': 352,\n",
       " 'special_edition': 'Warner Bros - movie collection'}"
      ]
     },
     "execution_count": 4,
     "metadata": {},
     "output_type": "execute_result"
    }
   ],
   "source": [
    "cstruct = {\n",
    "    \"title\": \"Harry Potter and the Goblet of Fire\",\n",
    "    \"authors\": [\"J.K. Rowling\"],\n",
    "    \"in_store\": False,\n",
    "    \"cover\": \"hard\",\n",
    "    \"number_of_pages\": 352,\n",
    "    \"special_edition\": \"Warner Bros - movie collection\"\n",
    "}\n",
    "schema = Book()\n",
    "schema.deserialize(cstruct)"
   ]
  },
  {
   "cell_type": "code",
   "execution_count": 5,
   "id": "9824dd09",
   "metadata": {},
   "outputs": [
    {
     "name": "stdout",
     "output_type": "stream",
     "text": [
      "{'authors': 'Shorter than minimum length 1',\n",
      " 'cover': '\"plastic\" is not one of soft, hard',\n",
      " 'number_of_pages': '-5 is less than minimum value 1'}\n"
     ]
    }
   ],
   "source": [
    "cstruct = {\n",
    "    \"title\": \"Untitled document 3\",\n",
    "    \"authors\": [],\n",
    "    \"in_store\": False,\n",
    "    \"cover\": \"plastic\",\n",
    "    \"number_of_pages\": -5,\n",
    "}\n",
    "schema = Book()\n",
    "try:\n",
    "    schema.deserialize(cstruct)\n",
    "except colander.Invalid as e:\n",
    "    print(e)"
   ]
  }
 ],
 "metadata": {
  "kernelspec": {
   "display_name": "Python [conda env:playground]",
   "language": "python",
   "name": "conda-env-playground-py"
  },
  "language_info": {
   "codemirror_mode": {
    "name": "ipython",
    "version": 3
   },
   "file_extension": ".py",
   "mimetype": "text/x-python",
   "name": "python",
   "nbconvert_exporter": "python",
   "pygments_lexer": "ipython3",
   "version": "3.10.6"
  }
 },
 "nbformat": 4,
 "nbformat_minor": 5
}
