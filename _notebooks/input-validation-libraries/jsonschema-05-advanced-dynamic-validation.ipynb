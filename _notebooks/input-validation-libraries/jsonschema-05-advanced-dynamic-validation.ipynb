{
 "cells": [
  {
   "cell_type": "markdown",
   "id": "06830323",
   "metadata": {},
   "source": [
    "advanced dynamic validation test - make parameter validation depend on the value of other parameters"
   ]
  },
  {
   "cell_type": "code",
   "execution_count": 1,
   "id": "a48d2fb8",
   "metadata": {},
   "outputs": [],
   "source": [
    "import jsonschema"
   ]
  },
  {
   "cell_type": "code",
   "execution_count": 2,
   "id": "b2531c02",
   "metadata": {},
   "outputs": [],
   "source": [
    "schema = {\n",
    "    \"type\": \"object\",\n",
    "    \"properties\": {\n",
    "        \"payment method\": {\n",
    "            \"type\": \"string\",\n",
    "            \"enum\": [\"transfer\", \"PyPal\", \"credit card\"]\n",
    "        },\n",
    "        \"card number\": {\"type\": \"string\"},\n",
    "        \"cardholder name\": {\"type\": \"string\"}\n",
    "    },\n",
    "    \"required\": [\"payment method\"],\n",
    "    \"anyOf\": [\n",
    "        {\n",
    "            \"properties\": {\n",
    "                \"payment method\": {\"const\": \"credit card\"}\n",
    "            },\n",
    "            \"required\": [\"card number\", \"cardholder name\"]\n",
    "        },\n",
    "        {\n",
    "            \"not\": {\n",
    "                \"anyOf\": [\n",
    "                    {\"properties\": {\n",
    "                        \"payment method\": {\"const\": \"credit card\"}\n",
    "                    }},\n",
    "                    {\"required\": [\"card number\"]},\n",
    "                    {\"required\": [\"cardholder name\"]}\n",
    "                ]\n",
    "            }\n",
    "        }\n",
    "    ],\n",
    "    \"additionalProperties\": False\n",
    "}\n",
    "validator = jsonschema.Draft7Validator(schema)"
   ]
  },
  {
   "cell_type": "code",
   "execution_count": 3,
   "id": "5614ec18",
   "metadata": {},
   "outputs": [],
   "source": [
    "# since draft7 there is an \"if\" statement\n",
    "schema = {\n",
    "    \"type\": \"object\",\n",
    "    \"properties\": {\n",
    "        \"payment method\": {\n",
    "            \"type\": \"string\",\n",
    "            \"enum\": [\"transfer\", \"PyPal\", \"credit card\"]\n",
    "        },\n",
    "        \"card number\": {\"type\": \"string\"},\n",
    "        \"cardholder name\": {\"type\": \"string\"}\n",
    "    },\n",
    "    \"required\": [\"payment method\"],\n",
    "    \"if\": {\n",
    "        \"properties\": {\n",
    "            \"payment method\": {\"const\": \"credit card\"}\n",
    "        }\n",
    "    },\n",
    "    \"then\": {\n",
    "        \"required\": [\"card number\", \"cardholder name\"]\n",
    "    },\n",
    "    \"else\": {\n",
    "        \"allOf\": [\n",
    "            {\"not\": {\"required\": [\"card number\"]}},\n",
    "            {\"not\": {\"required\": [\"cardholder name\"]}}\n",
    "        ]\n",
    "    },\n",
    "    \"additionalProperties\": False\n",
    "}\n",
    "validator_alt = jsonschema.Draft7Validator(schema)"
   ]
  },
  {
   "cell_type": "code",
   "execution_count": 4,
   "id": "74455905",
   "metadata": {},
   "outputs": [],
   "source": [
    "instance = {\n",
    "    \"payment method\": \"PyPal\"\n",
    "}\n",
    "validator.validate(instance)\n",
    "validator_alt.validate(instance)"
   ]
  },
  {
   "cell_type": "code",
   "execution_count": 5,
   "id": "6048564b",
   "metadata": {},
   "outputs": [],
   "source": [
    "instance = {\n",
    "    \"payment method\": \"credit card\",\n",
    "    \"card number\": \"1234-5678-8765-4321\",\n",
    "    \"cardholder name\": \"Steve McSmith\"\n",
    "}\n",
    "validator.validate(instance)\n",
    "validator_alt.validate(instance)"
   ]
  },
  {
   "cell_type": "code",
   "execution_count": 6,
   "id": "16e2c4f9",
   "metadata": {},
   "outputs": [
    {
     "name": "stdout",
     "output_type": "stream",
     "text": [
      "[<ValidationError: \"{'payment method': 'transfer', 'card number': '1234-5678-8765-4321'} is not valid under any of the given schemas\">]\n",
      "[<ValidationError: \"{'payment method': 'transfer', 'card number': '1234-5678-8765-4321'} should not be valid under {'required': ['card number']}\">]\n"
     ]
    }
   ],
   "source": [
    "instance = {\n",
    "    \"payment method\": \"transfer\",\n",
    "    \"card number\": \"1234-5678-8765-4321\"\n",
    "}\n",
    "print(list(validator.iter_errors(instance)))\n",
    "print(list(validator_alt.iter_errors(instance)))"
   ]
  },
  {
   "cell_type": "code",
   "execution_count": 7,
   "id": "9e2b4969",
   "metadata": {},
   "outputs": [
    {
     "name": "stdout",
     "output_type": "stream",
     "text": [
      "[<ValidationError: \"{'payment method': 'transfer', 'card number': '1234-5678-8765-4321', 'cardholder name': 'Steve McSmith'} is not valid under any of the given schemas\">]\n",
      "[<ValidationError: \"{'payment method': 'transfer', 'card number': '1234-5678-8765-4321', 'cardholder name': 'Steve McSmith'} should not be valid under {'required': ['card number']}\">, <ValidationError: \"{'payment method': 'transfer', 'card number': '1234-5678-8765-4321', 'cardholder name': 'Steve McSmith'} should not be valid under {'required': ['cardholder name']}\">]\n"
     ]
    }
   ],
   "source": [
    "instance = {\n",
    "    \"payment method\": \"transfer\",\n",
    "    \"card number\": \"1234-5678-8765-4321\",\n",
    "    \"cardholder name\": \"Steve McSmith\"\n",
    "}\n",
    "print(list(validator.iter_errors(instance)))\n",
    "print(list(validator_alt.iter_errors(instance)))"
   ]
  },
  {
   "cell_type": "code",
   "execution_count": 8,
   "id": "79fecf8c",
   "metadata": {},
   "outputs": [
    {
     "name": "stdout",
     "output_type": "stream",
     "text": [
      "[<ValidationError: \"{'payment method': 'credit card'} is not valid under any of the given schemas\">]\n",
      "[<ValidationError: \"'card number' is a required property\">, <ValidationError: \"'cardholder name' is a required property\">]\n"
     ]
    }
   ],
   "source": [
    "instance = {\n",
    "   \"payment method\": \"credit card\" \n",
    "}\n",
    "print(list(validator.iter_errors(instance)))\n",
    "print(list(validator_alt.iter_errors(instance)))"
   ]
  }
 ],
 "metadata": {
  "kernelspec": {
   "display_name": "Python [conda env:root] *",
   "language": "python",
   "name": "conda-root-py"
  },
  "language_info": {
   "codemirror_mode": {
    "name": "ipython",
    "version": 3
   },
   "file_extension": ".py",
   "mimetype": "text/x-python",
   "name": "python",
   "nbconvert_exporter": "python",
   "pygments_lexer": "ipython3",
   "version": "3.9.13"
  }
 },
 "nbformat": 4,
 "nbformat_minor": 5
}
