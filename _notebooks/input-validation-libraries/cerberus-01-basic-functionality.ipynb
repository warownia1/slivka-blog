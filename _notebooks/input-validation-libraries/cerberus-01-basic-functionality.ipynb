{
 "cells": [
  {
   "cell_type": "markdown",
   "id": "d9dfb2c1",
   "metadata": {},
   "source": [
    "Basic functionality test - primitive input parameters and collections of primitives with optional and nullable properties."
   ]
  },
  {
   "cell_type": "code",
   "execution_count": 1,
   "id": "83938d79",
   "metadata": {},
   "outputs": [],
   "source": [
    "import cerberus"
   ]
  },
  {
   "cell_type": "code",
   "execution_count": 2,
   "id": "d6ed990d",
   "metadata": {},
   "outputs": [],
   "source": [
    "schema = {\n",
    "    \"title\": {\n",
    "        \"type\": \"string\",\n",
    "        \"minlength\": 5,\n",
    "    },\n",
    "    \"subtitle\": {\n",
    "        \"type\": \"string\",\n",
    "        \"required\": False,\n",
    "    },\n",
    "    \"authors\": {\n",
    "        \"type\": \"list\",\n",
    "        \"minlength\": 1,\n",
    "        \"schema\": {\"type\": \"string\"},\n",
    "    },\n",
    "    \"in store\": {\"type\": \"boolean\"},\n",
    "    \"cover\": {\n",
    "        \"type\": \"string\",\n",
    "        \"allowed\": [\"soft\", \"hard\"],\n",
    "    },\n",
    "    \"number of pages\": {\n",
    "        \"type\": \"integer\",\n",
    "        \"min\": 1,\n",
    "    },\n",
    "    \"special edition\": {\n",
    "        \"type\": \"string\",\n",
    "        \"nullable\": True,\n",
    "    },\n",
    "}\n",
    "validator = cerberus.Validator(schema, require_all=True)"
   ]
  },
  {
   "cell_type": "code",
   "execution_count": 3,
   "id": "95b99eb3",
   "metadata": {},
   "outputs": [],
   "source": [
    "assert validator.validate({\n",
    "    \"title\": \"Design Patterns\",\n",
    "    \"subtitle\": \"Elements of Reusable Object-Oriented Software\",\n",
    "    \"authors\": [\n",
    "        \"Erich Gamma\", \"Richard Helm\", \"Ralph Johnson\", \"John Vlissides\"\n",
    "    ],\n",
    "    \"in store\": True,\n",
    "    \"cover\": \"soft\",\n",
    "    \"number of pages\": 521,\n",
    "    \"special edition\": None\n",
    "})"
   ]
  },
  {
   "cell_type": "code",
   "execution_count": 4,
   "id": "c67564a9",
   "metadata": {},
   "outputs": [],
   "source": [
    "assert validator.validate({\n",
    "    \"title\": \"Harry Potter and the Goblet of Fire\",\n",
    "    \"authors\": [\"J.K. Rowling\"],\n",
    "    \"in store\": False,\n",
    "    \"cover\": \"hard\",\n",
    "    \"number of pages\": 352,\n",
    "    \"special edition\": \"Warner Bros - movie collection\"\n",
    "})"
   ]
  },
  {
   "cell_type": "code",
   "execution_count": 5,
   "id": "34799ab6",
   "metadata": {},
   "outputs": [
    {
     "data": {
      "text/plain": [
       "{'authors': ['min length is 1'],\n",
       " 'cover': ['unallowed value plastic'],\n",
       " 'number of pages': ['min value is 1'],\n",
       " 'special edition': ['required field']}"
      ]
     },
     "execution_count": 5,
     "metadata": {},
     "output_type": "execute_result"
    }
   ],
   "source": [
    "assert not validator.validate({\n",
    "    \"title\": \"Untitled document 3\",\n",
    "    \"authors\": [],\n",
    "    \"in store\": False,\n",
    "    \"cover\": \"plastic\",\n",
    "    \"number of pages\": -5,\n",
    "})\n",
    "validator.errors"
   ]
  }
 ],
 "metadata": {
  "kernelspec": {
   "display_name": "Python [conda env:playground]",
   "language": "python",
   "name": "conda-env-playground-py"
  },
  "language_info": {
   "codemirror_mode": {
    "name": "ipython",
    "version": 3
   },
   "file_extension": ".py",
   "mimetype": "text/x-python",
   "name": "python",
   "nbconvert_exporter": "python",
   "pygments_lexer": "ipython3",
   "version": "3.10.6"
  }
 },
 "nbformat": 4,
 "nbformat_minor": 5
}
