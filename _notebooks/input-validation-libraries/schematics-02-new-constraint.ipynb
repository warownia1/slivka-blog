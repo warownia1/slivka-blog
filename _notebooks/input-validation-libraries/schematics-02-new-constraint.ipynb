{
 "cells": [
  {
   "cell_type": "markdown",
   "id": "95ec6117",
   "metadata": {},
   "source": [
    "Custom type checker test - a new validator added to the existing type"
   ]
  },
  {
   "cell_type": "code",
   "execution_count": 1,
   "id": "27d9c767",
   "metadata": {},
   "outputs": [],
   "source": [
    "from functools import partial\n",
    "\n",
    "from schematics.exceptions import DataError, ValidationError\n",
    "from schematics.models import Model\n",
    "from schematics.types import *"
   ]
  },
  {
   "cell_type": "markdown",
   "id": "9d499a94",
   "metadata": {},
   "source": [
    "Validators can be added to the existing type as functions."
   ]
  },
  {
   "cell_type": "code",
   "execution_count": 2,
   "id": "af9d98aa",
   "metadata": {},
   "outputs": [],
   "source": [
    "def is_even(constraint, value, /):\n",
    "    if constraint is True and value & 1 == 1:\n",
    "        raise ValidationError('Int value must be even')\n",
    "    if constraint is False and value & 1 == 0:\n",
    "        raise ValidationError(\"Int value must not be even\")"
   ]
  },
  {
   "cell_type": "code",
   "execution_count": 3,
   "id": "ece7d04f",
   "metadata": {},
   "outputs": [],
   "source": [
    "class Schema(Model):\n",
    "    number = IntType(validators=[partial(is_even, True)])"
   ]
  },
  {
   "cell_type": "code",
   "execution_count": 4,
   "id": "ededcc9e",
   "metadata": {},
   "outputs": [],
   "source": [
    "instance = Schema({\"number\": 4})\n",
    "instance.validate()"
   ]
  },
  {
   "cell_type": "code",
   "execution_count": 5,
   "id": "8092200e",
   "metadata": {},
   "outputs": [],
   "source": [
    "instance = Schema({})\n",
    "instance.validate()"
   ]
  },
  {
   "cell_type": "code",
   "execution_count": 6,
   "id": "2857d0e7",
   "metadata": {},
   "outputs": [
    {
     "name": "stdout",
     "output_type": "stream",
     "text": [
      "{'number': ValidationError([ErrorMessage('Int value must be even', None)])}\n"
     ]
    }
   ],
   "source": [
    "instance = Schema({\"number\": 3})\n",
    "try:\n",
    "    instance.validate()\n",
    "except DataError as e:\n",
    "    print(e.errors)"
   ]
  },
  {
   "cell_type": "markdown",
   "id": "eb0bad2d",
   "metadata": {},
   "source": [
    "Validators can also be added as methods in the subclassed type."
   ]
  },
  {
   "cell_type": "code",
   "execution_count": 7,
   "id": "7b251bd4",
   "metadata": {},
   "outputs": [],
   "source": [
    "class CustomIntType(IntType):\n",
    "    def __init__(self, *, is_even=None, **kwargs):\n",
    "        super().__init__(**kwargs)\n",
    "        self.is_even = is_even\n",
    "\n",
    "    def validate_is_even(self, value):\n",
    "        if self.is_even is True and value & 1 == 1:\n",
    "            raise ValidationError(\"Int value must be even\")\n",
    "        if self.is_even is False and value & 1 == 0:\n",
    "            raise ValidationError(\"Int value must not be even\")"
   ]
  },
  {
   "cell_type": "code",
   "execution_count": 8,
   "id": "63df2abe",
   "metadata": {},
   "outputs": [],
   "source": [
    "class Schema(Model):\n",
    "    number = CustomIntType(is_even=True)"
   ]
  },
  {
   "cell_type": "code",
   "execution_count": 9,
   "id": "15cb33bd",
   "metadata": {},
   "outputs": [],
   "source": [
    "instance = Schema({\"number\": 4})\n",
    "instance.validate()"
   ]
  },
  {
   "cell_type": "code",
   "execution_count": 10,
   "id": "1fae5504",
   "metadata": {},
   "outputs": [
    {
     "name": "stdout",
     "output_type": "stream",
     "text": [
      "{'number': ValidationError([ErrorMessage('Int value must be even', None)])}\n"
     ]
    }
   ],
   "source": [
    "instance = Schema({\"number\": 3})\n",
    "try:\n",
    "    instance.validate()\n",
    "except DataError as e:\n",
    "    print(e.errors)"
   ]
  }
 ],
 "metadata": {
  "kernelspec": {
   "display_name": "Python [conda env:playground]",
   "language": "python",
   "name": "conda-env-playground-py"
  },
  "language_info": {
   "codemirror_mode": {
    "name": "ipython",
    "version": 3
   },
   "file_extension": ".py",
   "mimetype": "text/x-python",
   "name": "python",
   "nbconvert_exporter": "python",
   "pygments_lexer": "ipython3",
   "version": "3.9.13"
  }
 },
 "nbformat": 4,
 "nbformat_minor": 5
}
