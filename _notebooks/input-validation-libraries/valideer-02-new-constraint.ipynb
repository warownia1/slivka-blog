{
 "cells": [
  {
   "cell_type": "markdown",
   "id": "012d23e6",
   "metadata": {},
   "source": [
    "Custom type checker test - a new validator added to the existing type"
   ]
  },
  {
   "cell_type": "code",
   "execution_count": 1,
   "id": "52a93a9e",
   "metadata": {},
   "outputs": [],
   "source": [
    "import valideer"
   ]
  },
  {
   "cell_type": "code",
   "execution_count": 2,
   "id": "744de015",
   "metadata": {},
   "outputs": [],
   "source": [
    "class IsEven(valideer.Integer):\n",
    "    \n",
    "    def __init__(self):\n",
    "        super().__init__()\n",
    "        \n",
    "    def validate(self, value, adapt=True):\n",
    "        value = super().validate(value, adapt=adapt)\n",
    "        if value & 1 == 1:\n",
    "            raise valideer.ValidationError(\"integer value must be even\", value)\n",
    "        return value"
   ]
  },
  {
   "cell_type": "code",
   "execution_count": 3,
   "id": "9dccff23",
   "metadata": {},
   "outputs": [],
   "source": [
    "schema = {\n",
    "    \"number\": IsEven()\n",
    "}\n",
    "validator = valideer.parse(schema)"
   ]
  },
  {
   "cell_type": "code",
   "execution_count": 4,
   "id": "ad9704df",
   "metadata": {},
   "outputs": [],
   "source": [
    "assert validator.is_valid({\"number\": 6})"
   ]
  },
  {
   "cell_type": "code",
   "execution_count": 5,
   "id": "8ea50e04",
   "metadata": {},
   "outputs": [],
   "source": [
    "assert validator.is_valid({\"number\": 2})"
   ]
  },
  {
   "cell_type": "code",
   "execution_count": 6,
   "id": "6a39cba5",
   "metadata": {},
   "outputs": [],
   "source": [
    "assert not validator.is_valid({\"number\": 7})"
   ]
  },
  {
   "cell_type": "code",
   "execution_count": 7,
   "id": "70784ec3",
   "metadata": {},
   "outputs": [
    {
     "name": "stdout",
     "output_type": "stream",
     "text": [
      "Invalid value 7 (int): integer value must be even (at number)\n"
     ]
    }
   ],
   "source": [
    "try:\n",
    "    validator.validate({'number': 7})\n",
    "except valideer.ValidationError as e:\n",
    "    print(e.message)"
   ]
  }
 ],
 "metadata": {
  "kernelspec": {
   "display_name": "Python [conda env:playground]",
   "language": "python",
   "name": "conda-env-playground-py"
  },
  "language_info": {
   "codemirror_mode": {
    "name": "ipython",
    "version": 3
   },
   "file_extension": ".py",
   "mimetype": "text/x-python",
   "name": "python",
   "nbconvert_exporter": "python",
   "pygments_lexer": "ipython3",
   "version": "3.9.13"
  }
 },
 "nbformat": 4,
 "nbformat_minor": 5
}
