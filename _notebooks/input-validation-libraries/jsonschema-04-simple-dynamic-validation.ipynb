{
 "cells": [
  {
   "cell_type": "markdown",
   "id": "7c023098",
   "metadata": {},
   "source": [
    "simple dynamic validation test - make two parameters required and mutually exclusive"
   ]
  },
  {
   "cell_type": "code",
   "execution_count": 1,
   "id": "3ee14d27",
   "metadata": {},
   "outputs": [],
   "source": [
    "import jsonschema"
   ]
  },
  {
   "cell_type": "code",
   "execution_count": 2,
   "id": "7e269368",
   "metadata": {},
   "outputs": [],
   "source": [
    "schema = {\n",
    "    \"type\": \"object\",\n",
    "    \"properties\": {\n",
    "        \"input data\": {\"type\": \"string\"},\n",
    "        \"depth\": {\"type\": \"integer\"},\n",
    "        \"accurate method\": {\"type\": \"number\"},\n",
    "        \"fast method\": {\"type\": \"number\"}\n",
    "    },\n",
    "    \"required\": [\"input data\", \"depth\"],\n",
    "    \"oneOf\": [\n",
    "        {\"required\": [\"accurate method\"]},\n",
    "        {\"required\": [\"fast method\"]}\n",
    "    ]\n",
    "}\n",
    "validator = jsonschema.Draft7Validator(schema)"
   ]
  },
  {
   "cell_type": "code",
   "execution_count": 3,
   "id": "c276f0c0",
   "metadata": {},
   "outputs": [],
   "source": [
    "validator.validate({\n",
    "    \"input data\": \"AGGTCGTGC\",\n",
    "    \"depth\": 4,\n",
    "    \"accurate method\": 1.43231\n",
    "})"
   ]
  },
  {
   "cell_type": "code",
   "execution_count": 4,
   "id": "4941abdd",
   "metadata": {},
   "outputs": [],
   "source": [
    "validator.validate({\n",
    "    \"input data\": \"AGGTCGTGC\",\n",
    "    \"depth\": 4,\n",
    "    \"fast method\": 0.03241\n",
    "})"
   ]
  },
  {
   "cell_type": "code",
   "execution_count": 5,
   "id": "9d7d390a",
   "metadata": {},
   "outputs": [
    {
     "data": {
      "text/plain": [
       "[<ValidationError: \"{'input data': 'AGGTCGTGC', 'depth': 4, 'fast method': 1.2308, 'accurate method': 2.2109} is valid under each of {'required': ['fast method']}, {'required': ['accurate method']}\">]"
      ]
     },
     "execution_count": 5,
     "metadata": {},
     "output_type": "execute_result"
    }
   ],
   "source": [
    "list(validator.iter_errors({\n",
    "    \"input data\": \"AGGTCGTGC\",\n",
    "    \"depth\": 4,\n",
    "    \"fast method\": 1.2308,\n",
    "    \"accurate method\": 2.2109\n",
    "}))"
   ]
  },
  {
   "cell_type": "code",
   "execution_count": 6,
   "id": "ecdc0ec3",
   "metadata": {},
   "outputs": [
    {
     "data": {
      "text/plain": [
       "[<ValidationError: \"{'input data': 'AGGTCGTGC', 'depth': 4} is not valid under any of the given schemas\">]"
      ]
     },
     "execution_count": 6,
     "metadata": {},
     "output_type": "execute_result"
    }
   ],
   "source": [
    "list(validator.iter_errors({\n",
    "    \"input data\": \"AGGTCGTGC\",\n",
    "    \"depth\": 4\n",
    "}))"
   ]
  }
 ],
 "metadata": {
  "kernelspec": {
   "display_name": "Python [conda env:playground]",
   "language": "python",
   "name": "conda-env-playground-py"
  },
  "language_info": {
   "codemirror_mode": {
    "name": "ipython",
    "version": 3
   },
   "file_extension": ".py",
   "mimetype": "text/x-python",
   "name": "python",
   "nbconvert_exporter": "python",
   "pygments_lexer": "ipython3",
   "version": "3.10.6"
  }
 },
 "nbformat": 4,
 "nbformat_minor": 5
}
