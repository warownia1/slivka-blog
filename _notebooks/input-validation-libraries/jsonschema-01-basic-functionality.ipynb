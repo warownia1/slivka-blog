{
 "cells": [
  {
   "cell_type": "markdown",
   "id": "1f3ab6b8",
   "metadata": {},
   "source": [
    "Basic functionality test - primitive input parameters and collections of primitives with optional and nullable properties."
   ]
  },
  {
   "cell_type": "code",
   "execution_count": 1,
   "id": "baaafded",
   "metadata": {},
   "outputs": [],
   "source": [
    "import jsonschema.validators"
   ]
  },
  {
   "cell_type": "code",
   "execution_count": 2,
   "id": "fd58ee23",
   "metadata": {},
   "outputs": [],
   "source": [
    "schema = {\n",
    "    \"type\": \"object\",\n",
    "    \"properties\": {\n",
    "        \"title\": {\"type\": \"string\", \"minLength\": 5},\n",
    "        \"subtitle\": {\"type\": \"string\"},\n",
    "        \"authors\": {\n",
    "            \"type\": \"array\",\n",
    "            \"items\": {\"type\": \"string\"},\n",
    "            \"minItems\": 1\n",
    "        },\n",
    "        \"in store\": {\"type\": \"boolean\"},\n",
    "        \"number of pages\": {\"type\": \"integer\", \"minimum\": 1},\n",
    "        \"special edition\": {\"type\": [\"string\", \"null\"]}\n",
    "    },\n",
    "    \"required\": [\"title\", \"authors\", \"in store\", \"number of pages\", \"special edition\"],\n",
    "    \"additionalProperties\": False\n",
    "}\n",
    "validator = jsonschema.validators.Draft7Validator(schema)"
   ]
  },
  {
   "cell_type": "code",
   "execution_count": 3,
   "id": "c3795441",
   "metadata": {},
   "outputs": [],
   "source": [
    "validator.validate({\n",
    "    \"title\": \"Design Patterns\",\n",
    "    \"subtitle\": \"Elements of Reusable Object-Oriented Software\",\n",
    "    \"authors\": [\n",
    "        \"Erich Gamma\", \"Richard Helm\", \"Ralph Johnson\", \"John Vlissides\"\n",
    "    ],\n",
    "    \"in store\": True,\n",
    "    \"number of pages\": 521,\n",
    "    \"special edition\": None\n",
    "})"
   ]
  },
  {
   "cell_type": "code",
   "execution_count": 4,
   "id": "4f05ba81",
   "metadata": {},
   "outputs": [],
   "source": [
    "validator.validate({\n",
    "    \"title\": \"Harry Potter and the Goblet of Fire\",\n",
    "    \"authors\": [\"J.K. Rowling\"],\n",
    "    \"in store\": False,\n",
    "    \"number of pages\": 352,\n",
    "    \"special edition\": \"Warner Bros - movie collection\"\n",
    "})"
   ]
  },
  {
   "cell_type": "code",
   "execution_count": 5,
   "id": "2514ae4b",
   "metadata": {},
   "outputs": [
    {
     "data": {
      "text/plain": [
       "[<ValidationError: '[] is too short'>,\n",
       " <ValidationError: '-5 is less than the minimum of 1'>,\n",
       " <ValidationError: \"'special edition' is a required property\">]"
      ]
     },
     "execution_count": 5,
     "metadata": {},
     "output_type": "execute_result"
    }
   ],
   "source": [
    "list(validator.iter_errors({\n",
    "    \"title\": \"Untitled document 3\",\n",
    "    \"authors\": [],\n",
    "    \"in store\": False,\n",
    "    \"number of pages\": -5\n",
    "}))"
   ]
  }
 ],
 "metadata": {
  "kernelspec": {
   "display_name": "Python [conda env:playground]",
   "language": "python",
   "name": "conda-env-playground-py"
  },
  "language_info": {
   "codemirror_mode": {
    "name": "ipython",
    "version": 3
   },
   "file_extension": ".py",
   "mimetype": "text/x-python",
   "name": "python",
   "nbconvert_exporter": "python",
   "pygments_lexer": "ipython3",
   "version": "3.10.6"
  }
 },
 "nbformat": 4,
 "nbformat_minor": 5
}
