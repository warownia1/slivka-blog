{
 "cells": [
  {
   "cell_type": "markdown",
   "id": "384f14bc",
   "metadata": {},
   "source": [
    "Custom validator test - a new validator added to the existing type"
   ]
  },
  {
   "cell_type": "code",
   "execution_count": 1,
   "id": "a5978a08",
   "metadata": {},
   "outputs": [],
   "source": [
    "import colander"
   ]
  },
  {
   "cell_type": "code",
   "execution_count": 2,
   "id": "9d60f140",
   "metadata": {},
   "outputs": [],
   "source": [
    "def IsEven(even=True):\n",
    "    def is_even_validator(node, value):\n",
    "        if even is True and value & 1 == 1:\n",
    "            raise colander.Invalid(node, f'{value!r} is not an even integer')\n",
    "        elif even is False and value & 1 == 0:\n",
    "            raise colander.Invalid(node, f'{value!r} is an even integer')\n",
    "    return is_even_validator"
   ]
  },
  {
   "cell_type": "code",
   "execution_count": 3,
   "id": "890aa265",
   "metadata": {},
   "outputs": [],
   "source": [
    "schema = colander.SchemaNode(\n",
    "    colander.Int(),\n",
    "    validator=IsEven(),\n",
    "    name='number'\n",
    ")"
   ]
  },
  {
   "cell_type": "code",
   "execution_count": 4,
   "id": "2119e53f",
   "metadata": {},
   "outputs": [
    {
     "data": {
      "text/plain": [
       "10"
      ]
     },
     "execution_count": 4,
     "metadata": {},
     "output_type": "execute_result"
    }
   ],
   "source": [
    "schema.deserialize(10)"
   ]
  },
  {
   "cell_type": "code",
   "execution_count": 5,
   "id": "21ac471a",
   "metadata": {},
   "outputs": [
    {
     "name": "stdout",
     "output_type": "stream",
     "text": [
      "{'number': '11 is not an even integer'}\n"
     ]
    }
   ],
   "source": [
    "try:\n",
    "    schema.deserialize(11)\n",
    "except colander.Invalid as e:\n",
    "    print(e)"
   ]
  }
 ],
 "metadata": {
  "kernelspec": {
   "display_name": "Python [conda env:playground]",
   "language": "python",
   "name": "conda-env-playground-py"
  },
  "language_info": {
   "codemirror_mode": {
    "name": "ipython",
    "version": 3
   },
   "file_extension": ".py",
   "mimetype": "text/x-python",
   "name": "python",
   "nbconvert_exporter": "python",
   "pygments_lexer": "ipython3",
   "version": "3.10.6"
  }
 },
 "nbformat": 4,
 "nbformat_minor": 5
}
