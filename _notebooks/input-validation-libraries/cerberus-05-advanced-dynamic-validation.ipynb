{
 "cells": [
  {
   "cell_type": "markdown",
   "id": "a6613982",
   "metadata": {},
   "source": [
    "Advanced dynamic validation test - require parameters depending on another parameter value"
   ]
  },
  {
   "cell_type": "code",
   "execution_count": 1,
   "id": "50e4b47b",
   "metadata": {},
   "outputs": [],
   "source": [
    "import cerberus"
   ]
  },
  {
   "cell_type": "code",
   "execution_count": 2,
   "id": "70428985",
   "metadata": {},
   "outputs": [],
   "source": [
    "schema = {\n",
    "    \"payment method\": {\n",
    "        \"type\": \"string\",\n",
    "        \"allowed\": [\"transfer\", \"PyPal\", \"credit card\"],\n",
    "        \"oneof\": [\n",
    "            {\n",
    "                \"forbidden\": [\"credit card\"],\n",
    "                \"excludes\": [\"card number\", \"cardholder name\"]\n",
    "            },\n",
    "            {\n",
    "                \"allowed\": [\"credit card\"],\n",
    "                \"dependencies\": [\"card number\", \"cardholder name\"]\n",
    "            }\n",
    "        ]\n",
    "    },\n",
    "    \"card number\": {\n",
    "        \"type\": \"string\",\n",
    "    },\n",
    "    \"cardholder name\": {\n",
    "        \"type\": \"string\",\n",
    "    }\n",
    "}\n",
    "validator = cerberus.Validator(schema)"
   ]
  },
  {
   "cell_type": "code",
   "execution_count": 3,
   "id": "9fa8f50c",
   "metadata": {},
   "outputs": [],
   "source": [
    "assert validator.validate({\n",
    "    \"payment method\": \"PyPal\"\n",
    "})"
   ]
  },
  {
   "cell_type": "code",
   "execution_count": 4,
   "id": "8b3f59a7",
   "metadata": {},
   "outputs": [],
   "source": [
    "assert validator.validate({\n",
    "    \"payment method\": \"credit card\",\n",
    "    \"card number\": \"1234-5678-8765-4321\",\n",
    "    \"cardholder name\": \"Steve McSmith\"\n",
    "})"
   ]
  },
  {
   "cell_type": "code",
   "execution_count": 5,
   "id": "73480cdb",
   "metadata": {},
   "outputs": [
    {
     "data": {
      "text/plain": [
       "{'payment method': ['none or more than one rule validate',\n",
       "  {'oneof definition 0': [\"'card number', 'cardholder name' must not be present with 'payment method'\"],\n",
       "   'oneof definition 1': ['unallowed value transfer']}]}"
      ]
     },
     "execution_count": 5,
     "metadata": {},
     "output_type": "execute_result"
    }
   ],
   "source": [
    "assert not validator.validate({\n",
    "    \"payment method\": \"transfer\",\n",
    "    \"card number\": \"1234-5678-8765-4321\",\n",
    "    \"cardholder name\": \"Steve McSmith\"\n",
    "})\n",
    "validator.errors"
   ]
  },
  {
   "cell_type": "code",
   "execution_count": 6,
   "id": "d84d030b",
   "metadata": {},
   "outputs": [
    {
     "data": {
      "text/plain": [
       "{'payment method': ['none or more than one rule validate',\n",
       "  {'oneof definition 0': ['unallowed value credit card'],\n",
       "   'oneof definition 1': [\"field 'cardholder name' is required\",\n",
       "    \"field 'card number' is required\"]}]}"
      ]
     },
     "execution_count": 6,
     "metadata": {},
     "output_type": "execute_result"
    }
   ],
   "source": [
    "assert not validator.validate({\n",
    "    \"payment method\": \"credit card\"\n",
    "})\n",
    "validator.errors"
   ]
  }
 ],
 "metadata": {
  "kernelspec": {
   "display_name": "Python [conda env:playground]",
   "language": "python",
   "name": "conda-env-playground-py"
  },
  "language_info": {
   "codemirror_mode": {
    "name": "ipython",
    "version": 3
   },
   "file_extension": ".py",
   "mimetype": "text/x-python",
   "name": "python",
   "nbconvert_exporter": "python",
   "pygments_lexer": "ipython3",
   "version": "3.10.6"
  }
 },
 "nbformat": 4,
 "nbformat_minor": 5
}
