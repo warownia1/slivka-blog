{
 "cells": [
  {
   "cell_type": "markdown",
   "id": "fbb040ff",
   "metadata": {},
   "source": [
    "New type test - a custom type with its own validators added to the schema"
   ]
  },
  {
   "cell_type": "code",
   "execution_count": 1,
   "id": "742aab82",
   "metadata": {},
   "outputs": [],
   "source": [
    "from collections import namedtuple\n",
    "\n",
    "import cerberus"
   ]
  },
  {
   "cell_type": "code",
   "execution_count": 2,
   "id": "31e40bb0",
   "metadata": {},
   "outputs": [],
   "source": [
    "Dimensions = namedtuple(\"Dimensions\", \"length, width, height\")"
   ]
  },
  {
   "cell_type": "code",
   "execution_count": 3,
   "id": "25220aa3",
   "metadata": {},
   "outputs": [],
   "source": [
    "dimensions_type = cerberus.TypeDefinition('dimensions', (Dimensions,), ())\n",
    "\n",
    "class Validator(cerberus.Validator):\n",
    "    types_mapping = cerberus.Validator.types_mapping.copy()\n",
    "    types_mapping['dimensions'] = dimensions_type\n",
    "    \n",
    "    def _validate_max_largest_dimension(self, constraint, field, value):\n",
    "        \"\"\" {\"type\": \"number\", \"min\": 0} \"\"\"\n",
    "        if max(value) > constraint:\n",
    "            self._error(field, f\"longest dimension is larger than the limit of {constraint}\")\n",
    "    \n",
    "    def _validate_max_volume(self, constraint, field, value):\n",
    "        \"\"\" {\"type\": \"number\", \"min\": 0}\"\"\"\n",
    "        volume = value.length * value.width * value.height\n",
    "        if volume > constraint:\n",
    "            self._error(field, f\"total volume is greater than the maximum of {constraint}\")"
   ]
  },
  {
   "cell_type": "code",
   "execution_count": 4,
   "id": "77f4eb63",
   "metadata": {},
   "outputs": [],
   "source": [
    "schema = {\n",
    "    \"size\": {\n",
    "        \"type\": \"dimensions\",\n",
    "        \"max largest dimension\": 10,\n",
    "        \"max volume\": 250\n",
    "    }\n",
    "}\n",
    "validator = Validator(schema)"
   ]
  },
  {
   "cell_type": "code",
   "execution_count": 5,
   "id": "1a975378",
   "metadata": {},
   "outputs": [],
   "source": [
    "assert validator.validate({\"size\": Dimensions(8, 5, 6)})"
   ]
  },
  {
   "cell_type": "code",
   "execution_count": 6,
   "id": "a488696e",
   "metadata": {},
   "outputs": [
    {
     "data": {
      "text/plain": [
       "{'size': ['longest dimension is larger than the limit of 10']}"
      ]
     },
     "execution_count": 6,
     "metadata": {},
     "output_type": "execute_result"
    }
   ],
   "source": [
    "assert not validator.validate({\"size\": Dimensions(11, 0.5, 0.3)})\n",
    "validator.errors"
   ]
  },
  {
   "cell_type": "code",
   "execution_count": 7,
   "id": "6405c957",
   "metadata": {},
   "outputs": [
    {
     "data": {
      "text/plain": [
       "{'size': ['total volume is greater than the maximum of 250']}"
      ]
     },
     "execution_count": 7,
     "metadata": {},
     "output_type": "execute_result"
    }
   ],
   "source": [
    "assert not validator.validate({\"size\": Dimensions(8, 5, 7)})\n",
    "validator.errors"
   ]
  }
 ],
 "metadata": {
  "kernelspec": {
   "display_name": "Python [conda env:playground]",
   "language": "python",
   "name": "conda-env-playground-py"
  },
  "language_info": {
   "codemirror_mode": {
    "name": "ipython",
    "version": 3
   },
   "file_extension": ".py",
   "mimetype": "text/x-python",
   "name": "python",
   "nbconvert_exporter": "python",
   "pygments_lexer": "ipython3",
   "version": "3.10.6"
  }
 },
 "nbformat": 4,
 "nbformat_minor": 5
}
